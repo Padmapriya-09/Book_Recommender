{
 "cells": [
  {
   "cell_type": "code",
   "execution_count": 1,
   "metadata": {},
   "outputs": [],
   "source": [
    "import urllib.request\n",
    "\n",
    "def download_images(data, dest):\n",
    "\n",
    "    for i in data.newbookid:\n",
    "        file_path_s = dest + str(i) + '.jpg'\n",
    "        urllib.request.urlretrieve(data.small_image_url[i-1], file_path_s)"
   ]
  },
  {
   "cell_type": "code",
   "execution_count": 2,
   "metadata": {},
   "outputs": [],
   "source": [
    "import os\n",
    "import pandas as pd\n",
    "\n",
    "cwd = os.getcwd()\n",
    "data = pd.read_csv(cwd+'/../../data/output csv files/finalbooks.csv')\n",
    "\n",
    "if not os.path.isdir(cwd+'/../../data/img_s/'):\n",
    "    os.mkdir(cwd+'/../../data/img_s/')\n",
    "input_path = cwd+'/../../data/img_s/'\n",
    "download_images(data, input_path)"
   ]
  }
 ],
 "metadata": {
  "kernelspec": {
   "display_name": "Python 3",
   "language": "python",
   "name": "python3"
  },
  "language_info": {
   "codemirror_mode": {
    "name": "ipython",
    "version": 3
   },
   "file_extension": ".py",
   "mimetype": "text/x-python",
   "name": "python",
   "nbconvert_exporter": "python",
   "pygments_lexer": "ipython3",
   "version": "3.8.5"
  }
 },
 "nbformat": 4,
 "nbformat_minor": 4
}
