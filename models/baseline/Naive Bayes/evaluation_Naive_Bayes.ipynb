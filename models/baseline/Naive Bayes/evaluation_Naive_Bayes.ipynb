{
 "cells": [
  {
   "cell_type": "code",
   "execution_count": 1,
   "metadata": {},
   "outputs": [],
   "source": [
    "import os\n",
    "cwd = os.getcwd()\n",
    "import gc\n",
    "import numpy as np\n",
    "from dask import dataframe as dd\n",
    "import pandas as pd"
   ]
  },
  {
   "cell_type": "code",
   "execution_count": 2,
   "metadata": {},
   "outputs": [],
   "source": [
    "def rmse(y,h):\n",
    "    \"\"\"RMSE\n",
    "    Args:\n",
    "        y: real y\n",
    "        h: predicted y\n",
    "    Returns:\n",
    "        RMSE\n",
    "    \"\"\"\n",
    "    a = y-h\n",
    "\n",
    "    return np.sqrt(sum(a**2)/len(a))\n",
    "\n",
    "def dcg_k(r, k):\n",
    "    \"\"\" Discounted Cumulative Gain (DGC)  \n",
    "    Args:\n",
    "        r: True Ratings in Predicted Rank Order (1st element is top recommendation)\n",
    "        k: Number of results to consider\n",
    "    Returns:\n",
    "        DCG\n",
    "    \"\"\"\n",
    "  \n",
    "    r = np.asfarray(r)[:k]\n",
    "    return np.sum(2**r / np.log2(np.arange(2, r.size + 2))) \n",
    "\n",
    "def ndcg_k(r, k):\n",
    "    \"\"\"Normalized Discounted Cumulative Gain (NDCG)\n",
    "    Args:\n",
    "        r: True Ratings in Predicted Rank Order (1st element is top recommendation)\n",
    "        k: Number of results to consider\n",
    "    Returns:\n",
    "        NDCG\n",
    "    \"\"\"\n",
    "    dcg_max = dcg_k(sorted(r, reverse=True), k)\n",
    "    if not dcg_max:\n",
    "        return 0.\n",
    "    return dcg_k(r, k) / dcg_max\n",
    "\n",
    "def mean_ndcg(rs):\n",
    "    \"\"\"Mean NDCG for all users\n",
    "    Args:\n",
    "        rs: Iterator / For each user: True Ratings in Predicted Rank Order\n",
    "    Returns:\n",
    "        Mean NDCG\n",
    "    \"\"\"\n",
    "    return np.mean([ndcg_k(r, len(r)) for r in rs])"
   ]
  },
  {
   "cell_type": "code",
   "execution_count": 3,
   "metadata": {},
   "outputs": [
    {
     "data": {
      "text/html": [
       "<div>\n",
       "<style scoped>\n",
       "    .dataframe tbody tr th:only-of-type {\n",
       "        vertical-align: middle;\n",
       "    }\n",
       "\n",
       "    .dataframe tbody tr th {\n",
       "        vertical-align: top;\n",
       "    }\n",
       "\n",
       "    .dataframe thead th {\n",
       "        text-align: right;\n",
       "    }\n",
       "</style>\n",
       "<table border=\"1\" class=\"dataframe\">\n",
       "  <thead>\n",
       "    <tr style=\"text-align: right;\">\n",
       "      <th></th>\n",
       "      <th>newbookid</th>\n",
       "      <th>rating</th>\n",
       "      <th>popshare</th>\n",
       "      <th>category</th>\n",
       "    </tr>\n",
       "  </thead>\n",
       "  <tbody>\n",
       "    <tr>\n",
       "      <th>5733</th>\n",
       "      <td>5734</td>\n",
       "      <td>62</td>\n",
       "      <td>0.950026</td>\n",
       "      <td>Tail</td>\n",
       "    </tr>\n",
       "    <tr>\n",
       "      <th>6589</th>\n",
       "      <td>6590</td>\n",
       "      <td>62</td>\n",
       "      <td>0.950056</td>\n",
       "      <td>Tail</td>\n",
       "    </tr>\n",
       "    <tr>\n",
       "      <th>7094</th>\n",
       "      <td>7095</td>\n",
       "      <td>62</td>\n",
       "      <td>0.950085</td>\n",
       "      <td>Tail</td>\n",
       "    </tr>\n",
       "    <tr>\n",
       "      <th>6334</th>\n",
       "      <td>6335</td>\n",
       "      <td>62</td>\n",
       "      <td>0.950114</td>\n",
       "      <td>Tail</td>\n",
       "    </tr>\n",
       "    <tr>\n",
       "      <th>6280</th>\n",
       "      <td>6281</td>\n",
       "      <td>62</td>\n",
       "      <td>0.950144</td>\n",
       "      <td>Tail</td>\n",
       "    </tr>\n",
       "    <tr>\n",
       "      <th>...</th>\n",
       "      <td>...</td>\n",
       "      <td>...</td>\n",
       "      <td>...</td>\n",
       "      <td>...</td>\n",
       "    </tr>\n",
       "    <tr>\n",
       "      <th>7619</th>\n",
       "      <td>7620</td>\n",
       "      <td>31</td>\n",
       "      <td>0.999941</td>\n",
       "      <td>Tail</td>\n",
       "    </tr>\n",
       "    <tr>\n",
       "      <th>5461</th>\n",
       "      <td>5462</td>\n",
       "      <td>31</td>\n",
       "      <td>0.999956</td>\n",
       "      <td>Tail</td>\n",
       "    </tr>\n",
       "    <tr>\n",
       "      <th>6094</th>\n",
       "      <td>6095</td>\n",
       "      <td>31</td>\n",
       "      <td>0.999971</td>\n",
       "      <td>Tail</td>\n",
       "    </tr>\n",
       "    <tr>\n",
       "      <th>7757</th>\n",
       "      <td>7758</td>\n",
       "      <td>31</td>\n",
       "      <td>0.999985</td>\n",
       "      <td>Tail</td>\n",
       "    </tr>\n",
       "    <tr>\n",
       "      <th>4701</th>\n",
       "      <td>4702</td>\n",
       "      <td>31</td>\n",
       "      <td>1.000000</td>\n",
       "      <td>Tail</td>\n",
       "    </tr>\n",
       "  </tbody>\n",
       "</table>\n",
       "<p>2298 rows × 4 columns</p>\n",
       "</div>"
      ],
      "text/plain": [
       "      newbookid  rating  popshare category\n",
       "5733       5734      62  0.950026     Tail\n",
       "6589       6590      62  0.950056     Tail\n",
       "7094       7095      62  0.950085     Tail\n",
       "6334       6335      62  0.950114     Tail\n",
       "6280       6281      62  0.950144     Tail\n",
       "...         ...     ...       ...      ...\n",
       "7619       7620      31  0.999941     Tail\n",
       "5461       5462      31  0.999956     Tail\n",
       "6094       6095      31  0.999971     Tail\n",
       "7757       7758      31  0.999985     Tail\n",
       "4701       4702      31  1.000000     Tail\n",
       "\n",
       "[2298 rows x 4 columns]"
      ]
     },
     "execution_count": 3,
     "metadata": {},
     "output_type": "execute_result"
    }
   ],
   "source": [
    "## DEFINING THE TAIL\n",
    "ratings = pd.read_csv(cwd+'/../../../data/output csv files/finalratings.csv')\n",
    "tailcomp = ratings.groupby(by= 'newbookid', as_index=False).agg({'rating':pd.Series.count}).sort_values(by = 'rating', ascending = False)\n",
    "ratings=\"\"\n",
    "tot = sum(tailcomp['rating'])\n",
    "tailcomp['popshare']= [x/tot for x in tailcomp['rating']]\n",
    "tailcomp['popshare']= tailcomp['popshare'].cumsum()\n",
    "tailcomp['category']= ['Head' if x<0.95 else \"Tail\" for x in tailcomp['popshare']]\n",
    "\n",
    "tail = tailcomp.loc[tailcomp.popshare >= 0.95]\n",
    "tailcomp=\"\"\n",
    "tail"
   ]
  },
  {
   "cell_type": "code",
   "execution_count": 4,
   "metadata": {},
   "outputs": [
    {
     "name": "stdout",
     "output_type": "stream",
     "text": [
      "Length of file: 120000000\n"
     ]
    },
    {
     "data": {
      "text/html": [
       "<div><strong>Dask DataFrame Structure:</strong></div>\n",
       "<div>\n",
       "<style scoped>\n",
       "    .dataframe tbody tr th:only-of-type {\n",
       "        vertical-align: middle;\n",
       "    }\n",
       "\n",
       "    .dataframe tbody tr th {\n",
       "        vertical-align: top;\n",
       "    }\n",
       "\n",
       "    .dataframe thead th {\n",
       "        text-align: right;\n",
       "    }\n",
       "</style>\n",
       "<table border=\"1\" class=\"dataframe\">\n",
       "  <thead>\n",
       "    <tr style=\"text-align: right;\">\n",
       "      <th></th>\n",
       "      <th>newbookid</th>\n",
       "      <th>newuser_id</th>\n",
       "      <th>predicted_rating</th>\n",
       "    </tr>\n",
       "    <tr>\n",
       "      <th>npartitions=54</th>\n",
       "      <th></th>\n",
       "      <th></th>\n",
       "      <th></th>\n",
       "    </tr>\n",
       "  </thead>\n",
       "  <tbody>\n",
       "    <tr>\n",
       "      <th></th>\n",
       "      <td>int64</td>\n",
       "      <td>int64</td>\n",
       "      <td>float64</td>\n",
       "    </tr>\n",
       "    <tr>\n",
       "      <th></th>\n",
       "      <td>...</td>\n",
       "      <td>...</td>\n",
       "      <td>...</td>\n",
       "    </tr>\n",
       "    <tr>\n",
       "      <th>...</th>\n",
       "      <td>...</td>\n",
       "      <td>...</td>\n",
       "      <td>...</td>\n",
       "    </tr>\n",
       "    <tr>\n",
       "      <th></th>\n",
       "      <td>...</td>\n",
       "      <td>...</td>\n",
       "      <td>...</td>\n",
       "    </tr>\n",
       "    <tr>\n",
       "      <th></th>\n",
       "      <td>...</td>\n",
       "      <td>...</td>\n",
       "      <td>...</td>\n",
       "    </tr>\n",
       "  </tbody>\n",
       "</table>\n",
       "</div>\n",
       "<div>Dask Name: read-csv, 54 tasks</div>"
      ],
      "text/plain": [
       "Dask DataFrame Structure:\n",
       "               newbookid newuser_id predicted_rating\n",
       "npartitions=54                                      \n",
       "                   int64      int64          float64\n",
       "                     ...        ...              ...\n",
       "...                  ...        ...              ...\n",
       "                     ...        ...              ...\n",
       "                     ...        ...              ...\n",
       "Dask Name: read-csv, 54 tasks"
      ]
     },
     "execution_count": 4,
     "metadata": {},
     "output_type": "execute_result"
    }
   ],
   "source": [
    "bayes = dd.read_csv('all_predictions_of_naive_bayes.csv')\n",
    "print(\"Length of file: %d\"%len(bayes))\n",
    "bayes"
   ]
  },
  {
   "cell_type": "code",
   "execution_count": 5,
   "metadata": {},
   "outputs": [],
   "source": [
    "test = dd.read_csv(cwd+'/../../../data/output csv files/test.csv')\n",
    "useronly = test['newuser_id'].unique()\n",
    "bayesrank = test.merge(bayes,on = ['newbookid', 'newuser_id'])\n",
    "bayesrank = bayesrank.map_partitions(lambda x: x.sort_values(by=['newuser_id', 'predicted_rating'], ascending=[1,0]))"
   ]
  },
  {
   "cell_type": "code",
   "execution_count": 6,
   "metadata": {},
   "outputs": [
    {
     "name": "stdout",
     "output_type": "stream",
     "text": [
      "done:  1000\n",
      "done:  2000\n",
      "done:  3000\n",
      "done:  4000\n",
      "done:  5000\n",
      "done:  6000\n",
      "done:  7000\n",
      "done:  8000\n",
      "done:  9000\n",
      "done:  10000\n",
      "done:  11000\n",
      "done:  12000\n",
      "done:  13000\n",
      "done:  14000\n",
      "done:  15000\n"
     ]
    }
   ],
   "source": [
    "br = bayesrank.compute()\n",
    "bayeslist = []\n",
    "\n",
    "for i in range(len(useronly)):\n",
    "    a = br.loc[br.newuser_id == i+1]['rating'].tolist()\n",
    "    bayeslist.append(a)\n",
    "    if (i+1)%1000 == 0: print(\"done: \", i+1)\n",
    "\n",
    "br=\"\""
   ]
  },
  {
   "cell_type": "code",
   "execution_count": 7,
   "metadata": {},
   "outputs": [],
   "source": [
    "b = np.array([ndcg_k(r, len(r)) for r in bayeslist])\n",
    "d = b[b == 1]"
   ]
  },
  {
   "cell_type": "code",
   "execution_count": 8,
   "metadata": {},
   "outputs": [
    {
     "name": "stdout",
     "output_type": "stream",
     "text": [
      "(1) Bayes Model RMSE:  1.375\n",
      "(2) Bayes Model NDCG:  0.824\n",
      "(2) Median NDCG:  0.821\n",
      "(2) Share of NDCG =1 among Users:  0.011\n"
     ]
    }
   ],
   "source": [
    "#top50 = bayesfin.map_partitions(lambda x: x.sort_values(by='predicted_rat', ascending=False).groupby('newuser_id').head(50))\n",
    "\n",
    "print('(1) Bayes Model RMSE: ', np.round(rmse(bayesrank['predicted_rating'],bayesrank['rating']), decimals=3))\n",
    "print('(2) Bayes Model NDCG: ', np.round(mean_ndcg(bayeslist), decimals=3))\n",
    "print(\"(2) Median NDCG: \", np.round(np.median(b), decimals=3))\n",
    "print(\"(2) Share of NDCG =1 among Users: \", np.round(sum(d)/len(useronly), decimals=3))\n",
    "\n",
    "test=\"\"\n",
    "bayesrank=\"\"\n",
    "bayeslist=\"\"\n",
    "d=\"\"\n",
    "b=\"\"\n",
    "#print('(3) Bayes Model Div50 Score: ',np.round(sum(np.in1d(top50.newbookid, tail.newbookid))/len(top50), decimals=3))"
   ]
  },
  {
   "cell_type": "code",
   "execution_count": 9,
   "metadata": {},
   "outputs": [
    {
     "name": "stdout",
     "output_type": "stream",
     "text": [
      "Length of file: 150000\n"
     ]
    },
    {
     "data": {
      "text/html": [
       "<div><strong>Dask DataFrame Structure:</strong></div>\n",
       "<div>\n",
       "<style scoped>\n",
       "    .dataframe tbody tr th:only-of-type {\n",
       "        vertical-align: middle;\n",
       "    }\n",
       "\n",
       "    .dataframe tbody tr th {\n",
       "        vertical-align: top;\n",
       "    }\n",
       "\n",
       "    .dataframe thead th {\n",
       "        text-align: right;\n",
       "    }\n",
       "</style>\n",
       "<table border=\"1\" class=\"dataframe\">\n",
       "  <thead>\n",
       "    <tr style=\"text-align: right;\">\n",
       "      <th></th>\n",
       "      <th>newuser_id</th>\n",
       "      <th>newbookid</th>\n",
       "    </tr>\n",
       "    <tr>\n",
       "      <th>npartitions=1</th>\n",
       "      <th></th>\n",
       "      <th></th>\n",
       "    </tr>\n",
       "  </thead>\n",
       "  <tbody>\n",
       "    <tr>\n",
       "      <th></th>\n",
       "      <td>int64</td>\n",
       "      <td>int64</td>\n",
       "    </tr>\n",
       "    <tr>\n",
       "      <th></th>\n",
       "      <td>...</td>\n",
       "      <td>...</td>\n",
       "    </tr>\n",
       "  </tbody>\n",
       "</table>\n",
       "</div>\n",
       "<div>Dask Name: read-csv, 1 tasks</div>"
      ],
      "text/plain": [
       "Dask DataFrame Structure:\n",
       "              newuser_id newbookid\n",
       "npartitions=1                     \n",
       "                   int64     int64\n",
       "                     ...       ...\n",
       "Dask Name: read-csv, 1 tasks"
      ]
     },
     "execution_count": 9,
     "metadata": {},
     "output_type": "execute_result"
    }
   ],
   "source": [
    "top10 = dd.read_csv('top_10_preds_for_each_user_by_naive_bayes.csv')\n",
    "print(\"Length of file: %d\"%len(top10))\n",
    "top10"
   ]
  },
  {
   "cell_type": "code",
   "execution_count": 10,
   "metadata": {},
   "outputs": [
    {
     "name": "stdout",
     "output_type": "stream",
     "text": [
      "(3) Bayes Model Div10 Score:  0.288\n"
     ]
    }
   ],
   "source": [
    "true_count=0\n",
    "total_count=0\n",
    "for t10 in top10.newbookid:\n",
    "    total_count = total_count+1\n",
    "    if t10 in tail.newbookid:\n",
    "        true_count = true_count+1\n",
    "\n",
    "print('(3) Bayes Model Div10 Score: ',np.round(true_count/total_count, decimals=3))\n",
    "#print('(3) Bayes Model Div10 Score: ',np.round(sum(np.in1d(top10.newbookid, tail.newbookid))/len(top10), decimals=3))\n",
    "top10=\"\"\n",
    "tail=\"\""
   ]
  },
  {
   "cell_type": "code",
   "execution_count": 11,
   "metadata": {},
   "outputs": [],
   "source": [
    "os.chdir(cwd+'/../../../data/output csv files')\n",
    "train = dd.read_csv('train.csv')\n",
    "os.chdir(cwd)"
   ]
  },
  {
   "cell_type": "code",
   "execution_count": 12,
   "metadata": {},
   "outputs": [],
   "source": [
    "bayesrank_train = train.merge(bayes,on = ['newbookid', 'newuser_id'])\n",
    "bayesrank_train = bayesrank_train.map_partitions(lambda x: x.sort_values(by=['newuser_id', 'predicted_rating'],ascending=[1,0]))"
   ]
  },
  {
   "cell_type": "code",
   "execution_count": 13,
   "metadata": {},
   "outputs": [
    {
     "name": "stdout",
     "output_type": "stream",
     "text": [
      "done:  1000\n",
      "done:  2000\n",
      "done:  3000\n",
      "done:  4000\n",
      "done:  5000\n",
      "done:  6000\n",
      "done:  7000\n",
      "done:  8000\n",
      "done:  9000\n",
      "done:  10000\n",
      "done:  11000\n",
      "done:  12000\n",
      "done:  13000\n",
      "done:  14000\n",
      "done:  15000\n"
     ]
    }
   ],
   "source": [
    "brt = bayesrank_train.compute()\n",
    "bayeslist_train = []\n",
    "\n",
    "for i in range(len(useronly)):\n",
    "    a = brt.loc[brt.newuser_id == i+1]['rating'].tolist()\n",
    "    bayeslist_train.append(a)\n",
    "    if (i+1)%1000 == 0: print(\"done: \", i+1)\n",
    "\n",
    "brt=\"\""
   ]
  },
  {
   "cell_type": "code",
   "execution_count": 14,
   "metadata": {},
   "outputs": [
    {
     "name": "stdout",
     "output_type": "stream",
     "text": [
      "(1) Bayes Model Train RMSE:  1.415\n",
      "(2) Bayes Model Train NDCG:  0.779\n"
     ]
    }
   ],
   "source": [
    "print('(1) Bayes Model Train RMSE: ', np.round(rmse(bayesrank_train['predicted_rating'],bayesrank_train['rating']), decimals=3))\n",
    "print('(2) Bayes Model Train NDCG: ', np.round(mean_ndcg(bayeslist_train), decimals=3))\n",
    "\n",
    "train=\"\"\n",
    "bayesrank_train=\"\"\n",
    "bayes=\"\"\n",
    "bayeslist_train=\"\""
   ]
  }
 ],
 "metadata": {
  "kernelspec": {
   "display_name": "Python 3",
   "language": "python",
   "name": "python3"
  },
  "language_info": {
   "codemirror_mode": {
    "name": "ipython",
    "version": 3
   },
   "file_extension": ".py",
   "mimetype": "text/x-python",
   "name": "python",
   "nbconvert_exporter": "python",
   "pygments_lexer": "ipython3",
   "version": "3.8.5"
  }
 },
 "nbformat": 4,
 "nbformat_minor": 4
}
