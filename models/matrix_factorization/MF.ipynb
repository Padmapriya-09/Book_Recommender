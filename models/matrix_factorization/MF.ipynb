{
 "cells": [
  {
   "cell_type": "code",
   "execution_count": 1,
   "metadata": {},
   "outputs": [],
   "source": [
    "# basics\n",
    "import pandas as pd\n",
    "import numpy as np\n",
    "\n",
    "# visualization\n",
    "import seaborn as sns\n",
    "import matplotlib.pyplot as plt\n",
    "%matplotlib inline\n",
    "\n",
    "# tools\n",
    "import scipy\n",
    "import math\n",
    "import random\n",
    "import sklearn\n",
    "import string\n",
    "from sklearn.model_selection import train_test_split\n",
    "\n",
    "\n",
    "finalbooks = pd.read_csv('../../data/output csv files/finalbooks.csv')\n",
    "ratings = pd.read_csv('../../data/output csv files/finalratings.csv')\n",
    "train = pd.read_csv('../../data/output csv files/train.csv')\n",
    "test = pd.read_csv('../../data/output csv files/test.csv')"
   ]
  },
  {
   "cell_type": "code",
   "execution_count": 2,
   "metadata": {},
   "outputs": [],
   "source": [
    "## NDGC & RMSE\n",
    "\n",
    "def dcg_k(r, k):\n",
    "    \"\"\" Discounted Cumulative Gain (DGC)  \n",
    "    Args:\n",
    "        r: True Ratings in Predicted Rank Order (1st element is top recommendation)\n",
    "        k: Number of results to consider\n",
    "    Returns:\n",
    "        DCG\n",
    "    \"\"\"\n",
    "  \n",
    "    r = np.asfarray(r)[:k]\n",
    "    return np.sum(2**r / np.log2(np.arange(2, r.size + 2)))      \n",
    "\n",
    "\n",
    "\n",
    "def ndcg_k(r, k):\n",
    "    \"\"\"Normalized Discounted Cumulative Gain (NDCG)\n",
    "    Args:\n",
    "        r: True Ratings in Predicted Rank Order (1st element is top recommendation)\n",
    "        k: Number of results to consider\n",
    "    Returns:\n",
    "        NDCG\n",
    "    \"\"\"\n",
    "    dcg_max = dcg_k(sorted(r, reverse=True), k)\n",
    "    if not dcg_max:\n",
    "        return 0.\n",
    "    return dcg_k(r, k) / dcg_max\n",
    "\n",
    "def mean_ndcg(rs):\n",
    "    \"\"\"Mean NDCG for all users\n",
    "    Args:\n",
    "        rs: Iterator / For each user: True Ratings in Predicted Rank Order\n",
    "    Returns:\n",
    "        Mean NDCG\n",
    "    \"\"\"\n",
    "    return np.mean([ndcg_k(r, len(r)) for r in rs])\n",
    "\n",
    "def rmse(y,h):\n",
    "    \"\"\"RMSE\n",
    "    Args:\n",
    "        y: real y\n",
    "        h: predicted y\n",
    "    Returns:\n",
    "        RMSE\n",
    "    \"\"\"\n",
    "    a = y-h\n",
    "\n",
    "    return np.sqrt(sum(a**2)/len(a))"
   ]
  },
  {
   "cell_type": "code",
   "execution_count": 3,
   "metadata": {},
   "outputs": [],
   "source": [
    "\n",
    "# MATRIX FACTORIZATION\n",
    "def new_R(data, U, B):\n",
    "    nR = np.zeros(data.shape[0])\n",
    "    c = 0\n",
    "    for i in range(data.shape[0]):\n",
    "        #if i % 10000000 == 0:\n",
    "            #print('step ' + str(i))\n",
    "        nR[c] = B[:, data.newbookid[i] - 1] @ U[data.newuser_id[i] - 1, :]\n",
    "\n",
    "        c += 1\n",
    "    return nR"
   ]
  },
  {
   "cell_type": "code",
   "execution_count": 4,
   "metadata": {},
   "outputs": [],
   "source": [
    "\n",
    "def ALS(train, k, lamu = 0.1, lamb = 0.1):\n",
    "    users = np.unique(train.newuser_id)\n",
    "    books = np.unique(train.newbookid)\n",
    "    nu = len(users)\n",
    "    nb = len(books)\n",
    "\n",
    "# Initialize U and B\n",
    "\n",
    "    #U = np.random.rand(max(users), k)/50\n",
    "    #B = np.random.rand(k, max(books))/50\n",
    "    #B[0, books - 1] = finalbooks.average_rating[books - 1]\n",
    "\n",
    "    U = np.ones((max(users), k)) / np.sqrt(k)\n",
    "    B = np.ones((k, max(books))) / np.sqrt(k)\n",
    "    #B[0, books - 1] = finalbooks.average_rating[books - 1]\n",
    "    \n",
    "    iter = 1\n",
    "    RMSE = 3\n",
    "    dRMSE = 1\n",
    "    rms = []\n",
    "    stop = 0.0001\n",
    "    max_iter = 24\n",
    "    \n",
    "    while (dRMSE > stop) and (iter < max_iter):\n",
    "      for i in users:\n",
    "        ind_B = train.newbookid[train.newuser_id == i] - 1\n",
    "        sub_B = B[:, ind_B]\n",
    "        nui = sub_B.shape[1]\n",
    "        Ai = sub_B @ np.transpose(sub_B) + lamu * np.identity(k)  #*nui\n",
    "        Vi = sub_B @ train.rating[train.newuser_id == i]\n",
    "        U[i - 1, :] = np.linalg.pinv(Ai) @ Vi\n",
    "        #if i % 1000 == 0: print('user ' + str(i))\n",
    "      nR = new_R(train, U, B)\n",
    "      new_RMSE = rmse(nR,train.rating)\n",
    "      dRMSEu = (RMSE - new_RMSE)\n",
    "      RMSE = new_RMSE.copy()\n",
    "      #print('dRMSE = ' + str(dRMSE))\n",
    "      rms.append(RMSE)\n",
    "      iter += 1\n",
    "      print(\"step: \", iter)\n",
    "\n",
    "      for i in books:\n",
    "        ind_U = train.newuser_id[train.newbookid == i] - 1\n",
    "        sub_U = U[ind_U, :]\n",
    "        nbi = sub_U.shape[0]\n",
    "        Ai = np.transpose(sub_U) @ sub_U + lamb * np.identity(k)   #*nbi\n",
    "        Vi = np.transpose(sub_U) @ train.rating[train.newbookid == i]\n",
    "        B[:, i - 1] = np.linalg.pinv(Ai) @ Vi\n",
    "        #if i % 1000 == 0: print('book ' + str(i))\n",
    "      nR = new_R(train, U, B)\n",
    "      new_RMSE = rmse(nR,train.rating)\n",
    "      dRMSE = (RMSE - new_RMSE) #np.abs\n",
    "      #dRMSE = min(dRMSEu, dRMSEb) #np.abs\n",
    "      RMSE = new_RMSE.copy()\n",
    "      #print('dRMSE = ' + str(dRMSE))\n",
    "      #print('RMSE = ' + str(RMSE))\n",
    "      print(\"step: \", iter)\n",
    "      rms.append(RMSE)\n",
    "      iter += 1\n",
    "    w = {}\n",
    "    w['rms'] = rms\n",
    "    w['U'] = U\n",
    "    w['B'] = B\n",
    "\n",
    "    return w"
   ]
  },
  {
   "cell_type": "code",
   "execution_count": 5,
   "metadata": {},
   "outputs": [],
   "source": [
    "traint, traincv = train_test_split(train,\n",
    "                               stratify=train['newuser_id'], \n",
    "                               test_size=0.1875,\n",
    "                               random_state=42)\n",
    "traint = traint.reset_index(drop=True)\n",
    "traincv = traincv.reset_index(drop=True)"
   ]
  },
  {
   "cell_type": "code",
   "execution_count": 6,
   "metadata": {},
   "outputs": [
    {
     "name": "stdout",
     "output_type": "stream",
     "text": [
      "running for... alphau =  0.125  and betab =  0.075\n",
      "step:  2\n",
      "step:  2\n",
      "step:  4\n",
      "step:  4\n",
      "step:  6\n",
      "step:  6\n",
      "RMSEtrain:  0.8708288399171024\n",
      "RMSECV:  0.8830296671206759\n",
      "done for: k=  3 alphau=  0.125 betab=  0.075\n",
      "RMSEtrain:  0.8708288399171024\n",
      "RMSECV:  0.8830296671206759\n",
      "NDG:  0.9786237377980047\n",
      "w rms:  [0.9176373568466061, 0.8728877462165853, 0.8711109931200388, 0.8709069270758304, 0.8708977137250491, 0.8708288399171024]\n",
      "running for... alphau =  0.125  and betab =  0.1\n",
      "step:  2\n",
      "step:  2\n",
      "step:  4\n",
      "step:  4\n",
      "step:  6\n",
      "step:  6\n",
      "RMSEtrain:  0.8708603484383786\n",
      "RMSECV:  0.8830455226957235\n",
      "done for: k=  3 alphau=  0.125 betab=  0.1\n",
      "RMSEtrain:  0.8708603484383786\n",
      "RMSECV:  0.8830455226957235\n",
      "NDG:  0.9786226939616115\n",
      "w rms:  [0.9176373568466061, 0.8728877879838463, 0.8711108156623435, 0.8709069372055328, 0.8708977010919403, 0.8708603484383786]\n",
      "running for... alphau =  0.125  and betab =  0.2\n",
      "step:  2\n",
      "step:  2\n",
      "step:  4\n",
      "step:  4\n",
      "step:  6\n",
      "step:  6\n",
      "RMSEtrain:  0.8708701214226839\n",
      "RMSECV:  0.88304813552929\n",
      "done for: k=  3 alphau=  0.125 betab=  0.2\n",
      "RMSEtrain:  0.8708701214226839\n",
      "RMSECV:  0.88304813552929\n",
      "NDG:  0.9786223321489363\n",
      "w rms:  [0.9176373568466061, 0.8728880742894233, 0.8711101441839832, 0.8709070994858793, 0.870897691464074, 0.8708701214226839]\n",
      "running for... alphau =  0.125  and betab =  1\n",
      "step:  2\n",
      "step:  2\n",
      "step:  4\n",
      "step:  4\n",
      "step:  6\n",
      "step:  6\n",
      "RMSEtrain:  0.870879272367362\n",
      "RMSECV:  0.8830365387939213\n",
      "done for: k=  3 alphau=  0.125 betab=  1\n",
      "RMSEtrain:  0.870879272367362\n",
      "RMSECV:  0.8830365387939213\n",
      "NDG:  0.9786228768241191\n",
      "w rms:  [0.9176373568466061, 0.872897211180969, 0.8711069748791633, 0.8709153664055762, 0.8709000378779401, 0.870879272367362]\n"
     ]
    }
   ],
   "source": [
    "ks = []\n",
    "trains = []\n",
    "cvs = []\n",
    "ndgs = []\n",
    "\n",
    "for k in [3]:\n",
    "  for alphau in  [ 0.125]:\n",
    "    for betab in  [0.075, 0.1, 0.2, 1]:\n",
    "      print(\"running for... alphau = \", alphau, \" and betab = \", betab)\n",
    "      w = ALS(traint, k, alphau, betab)\n",
    "      CVpred = new_R(traincv, w['U'], w['B'])\n",
    "      RMSE_CV = np.sqrt(np.mean((CVpred - traincv.rating) ** 2))\n",
    "      ranked = traincv.filter(['rating'])\n",
    "      ranked['pred'] = CVpred\n",
    "      ndgcv = ndcg_k(ranked.sort_values(by=['pred'], ascending = False).rating, len(ranked.sort_values(by=['pred'], ascending = False).rating))\n",
    "      ndgs.append(ndgcv)\n",
    "      ks.append(betab)\n",
    "      trains.append(w['rms'][-1])\n",
    "      cvs.append(RMSE_CV)\n",
    "      print(\"RMSEtrain: \", w['rms'][-1])\n",
    "      print(\"RMSECV: \", RMSE_CV)\n",
    "      print(\"done for: k= \", k, \"alphau= \", alphau, \"betab= \", betab)\n",
    "      print(\"RMSEtrain: \", w['rms'][-1])\n",
    "      print(\"RMSECV: \", RMSE_CV)\n",
    "      print(\"NDG: \", ndgcv)\n",
    "      print (\"w rms: \", w['rms'])"
   ]
  },
  {
   "cell_type": "code",
   "execution_count": 7,
   "metadata": {},
   "outputs": [
    {
     "name": "stdout",
     "output_type": "stream",
     "text": [
      "[0.075, 0.1, 0.2, 1]\n",
      "[0.8708288399171024, 0.8708603484383786, 0.8708701214226839, 0.870879272367362]\n",
      "[0.8830296671206759, 0.8830455226957235, 0.88304813552929, 0.8830365387939213]\n"
     ]
    }
   ],
   "source": [
    "print(ks)\n",
    "print(trains)\n",
    "print(cvs)"
   ]
  },
  {
   "cell_type": "code",
   "execution_count": 9,
   "metadata": {},
   "outputs": [
    {
     "name": "stdout",
     "output_type": "stream",
     "text": [
      "step:  2\n",
      "step:  2\n",
      "step:  4\n",
      "step:  4\n",
      "step:  6\n",
      "step:  6\n",
      "step:  8\n",
      "step:  8\n",
      "step:  10\n",
      "step:  10\n",
      "step:  12\n",
      "step:  12\n",
      "step:  14\n",
      "step:  14\n",
      "step:  16\n",
      "step:  16\n",
      "step:  18\n",
      "step:  18\n",
      "step:  20\n",
      "step:  20\n",
      "step:  22\n",
      "step:  22\n",
      "step:  24\n",
      "step:  24\n"
     ]
    }
   ],
   "source": [
    "w = ALS(train,  3, 0.1, 0.1)"
   ]
  },
  {
   "cell_type": "code",
   "execution_count": 10,
   "metadata": {},
   "outputs": [],
   "source": [
    "R = w['U'].dot(w['B'])"
   ]
  },
  {
   "cell_type": "code",
   "execution_count": 11,
   "metadata": {},
   "outputs": [
    {
     "data": {
      "text/plain": [
       "120000000"
      ]
     },
     "execution_count": 11,
     "metadata": {},
     "output_type": "execute_result"
    }
   ],
   "source": [
    "rflat = np.matrix.flatten(R)\n",
    "testy = np.repeat(np.array(train.newuser_id.unique()), 8000)\n",
    "booky = np.tile(np.array(finalbooks.newbookid), 15000)\n",
    "booky.size"
   ]
  },
  {
   "cell_type": "code",
   "execution_count": 12,
   "metadata": {},
   "outputs": [
    {
     "data": {
      "text/plain": [
       "120000000"
      ]
     },
     "execution_count": 12,
     "metadata": {},
     "output_type": "execute_result"
    }
   ],
   "source": [
    "testy = np.sort(testy)\n",
    "testy.size"
   ]
  },
  {
   "cell_type": "code",
   "execution_count": 13,
   "metadata": {},
   "outputs": [
    {
     "data": {
      "text/plain": [
       "120000000"
      ]
     },
     "execution_count": 13,
     "metadata": {},
     "output_type": "execute_result"
    }
   ],
   "source": [
    "rflat.size"
   ]
  },
  {
   "cell_type": "code",
   "execution_count": 14,
   "metadata": {},
   "outputs": [
    {
     "data": {
      "text/html": [
       "<div>\n",
       "<style scoped>\n",
       "    .dataframe tbody tr th:only-of-type {\n",
       "        vertical-align: middle;\n",
       "    }\n",
       "\n",
       "    .dataframe tbody tr th {\n",
       "        vertical-align: top;\n",
       "    }\n",
       "\n",
       "    .dataframe thead th {\n",
       "        text-align: right;\n",
       "    }\n",
       "</style>\n",
       "<table border=\"1\" class=\"dataframe\">\n",
       "  <thead>\n",
       "    <tr style=\"text-align: right;\">\n",
       "      <th></th>\n",
       "      <th>newuser_id</th>\n",
       "      <th>newbookid</th>\n",
       "      <th>pred</th>\n",
       "    </tr>\n",
       "  </thead>\n",
       "  <tbody>\n",
       "    <tr>\n",
       "      <th>0</th>\n",
       "      <td>1.0</td>\n",
       "      <td>1.0</td>\n",
       "      <td>4.175611</td>\n",
       "    </tr>\n",
       "    <tr>\n",
       "      <th>1</th>\n",
       "      <td>1.0</td>\n",
       "      <td>2.0</td>\n",
       "      <td>4.215383</td>\n",
       "    </tr>\n",
       "    <tr>\n",
       "      <th>2</th>\n",
       "      <td>1.0</td>\n",
       "      <td>3.0</td>\n",
       "      <td>4.456223</td>\n",
       "    </tr>\n",
       "    <tr>\n",
       "      <th>3</th>\n",
       "      <td>1.0</td>\n",
       "      <td>4.0</td>\n",
       "      <td>4.462765</td>\n",
       "    </tr>\n",
       "    <tr>\n",
       "      <th>4</th>\n",
       "      <td>1.0</td>\n",
       "      <td>5.0</td>\n",
       "      <td>3.598506</td>\n",
       "    </tr>\n",
       "    <tr>\n",
       "      <th>...</th>\n",
       "      <td>...</td>\n",
       "      <td>...</td>\n",
       "      <td>...</td>\n",
       "    </tr>\n",
       "    <tr>\n",
       "      <th>119999995</th>\n",
       "      <td>15000.0</td>\n",
       "      <td>7996.0</td>\n",
       "      <td>3.782936</td>\n",
       "    </tr>\n",
       "    <tr>\n",
       "      <th>119999996</th>\n",
       "      <td>15000.0</td>\n",
       "      <td>7997.0</td>\n",
       "      <td>3.803706</td>\n",
       "    </tr>\n",
       "    <tr>\n",
       "      <th>119999997</th>\n",
       "      <td>15000.0</td>\n",
       "      <td>7998.0</td>\n",
       "      <td>3.320146</td>\n",
       "    </tr>\n",
       "    <tr>\n",
       "      <th>119999998</th>\n",
       "      <td>15000.0</td>\n",
       "      <td>7999.0</td>\n",
       "      <td>4.027040</td>\n",
       "    </tr>\n",
       "    <tr>\n",
       "      <th>119999999</th>\n",
       "      <td>15000.0</td>\n",
       "      <td>8000.0</td>\n",
       "      <td>4.108230</td>\n",
       "    </tr>\n",
       "  </tbody>\n",
       "</table>\n",
       "<p>120000000 rows × 3 columns</p>\n",
       "</div>"
      ],
      "text/plain": [
       "           newuser_id  newbookid      pred\n",
       "0                 1.0        1.0  4.175611\n",
       "1                 1.0        2.0  4.215383\n",
       "2                 1.0        3.0  4.456223\n",
       "3                 1.0        4.0  4.462765\n",
       "4                 1.0        5.0  3.598506\n",
       "...               ...        ...       ...\n",
       "119999995     15000.0     7996.0  3.782936\n",
       "119999996     15000.0     7997.0  3.803706\n",
       "119999997     15000.0     7998.0  3.320146\n",
       "119999998     15000.0     7999.0  4.027040\n",
       "119999999     15000.0     8000.0  4.108230\n",
       "\n",
       "[120000000 rows x 3 columns]"
      ]
     },
     "execution_count": 14,
     "metadata": {},
     "output_type": "execute_result"
    }
   ],
   "source": [
    "predictions = pd.DataFrame(np.column_stack((testy, booky, rflat)), columns=('newuser_id','newbookid', 'pred'))\n",
    "predictions"
   ]
  },
  {
   "cell_type": "code",
   "execution_count": 15,
   "metadata": {},
   "outputs": [],
   "source": [
    "predictions.to_csv( 'predictions.csv' , index = False )"
   ]
  },
  {
   "cell_type": "code",
   "execution_count": 6,
   "metadata": {},
   "outputs": [],
   "source": [
    "import time\n",
    "from dask import dataframe as dd\n",
    "start = time.time()\n",
    "predictions = dd.read_csv('predictions.csv')\n",
    "end = time.time()"
   ]
  },
  {
   "cell_type": "code",
   "execution_count": 7,
   "metadata": {},
   "outputs": [
    {
     "data": {
      "text/html": [
       "<div>\n",
       "<style scoped>\n",
       "    .dataframe tbody tr th:only-of-type {\n",
       "        vertical-align: middle;\n",
       "    }\n",
       "\n",
       "    .dataframe tbody tr th {\n",
       "        vertical-align: top;\n",
       "    }\n",
       "\n",
       "    .dataframe thead th {\n",
       "        text-align: right;\n",
       "    }\n",
       "</style>\n",
       "<table border=\"1\" class=\"dataframe\">\n",
       "  <thead>\n",
       "    <tr style=\"text-align: right;\">\n",
       "      <th></th>\n",
       "      <th>newbookid</th>\n",
       "      <th>rating</th>\n",
       "      <th>popshare</th>\n",
       "      <th>category</th>\n",
       "    </tr>\n",
       "  </thead>\n",
       "  <tbody>\n",
       "    <tr>\n",
       "      <th>5458</th>\n",
       "      <td>6115</td>\n",
       "      <td>35</td>\n",
       "      <td>0.950003</td>\n",
       "      <td>Tail</td>\n",
       "    </tr>\n",
       "    <tr>\n",
       "      <th>4776</th>\n",
       "      <td>5341</td>\n",
       "      <td>35</td>\n",
       "      <td>0.950036</td>\n",
       "      <td>Tail</td>\n",
       "    </tr>\n",
       "    <tr>\n",
       "      <th>4154</th>\n",
       "      <td>4641</td>\n",
       "      <td>35</td>\n",
       "      <td>0.950069</td>\n",
       "      <td>Tail</td>\n",
       "    </tr>\n",
       "    <tr>\n",
       "      <th>5735</th>\n",
       "      <td>6433</td>\n",
       "      <td>35</td>\n",
       "      <td>0.950103</td>\n",
       "      <td>Tail</td>\n",
       "    </tr>\n",
       "    <tr>\n",
       "      <th>6180</th>\n",
       "      <td>6945</td>\n",
       "      <td>35</td>\n",
       "      <td>0.950136</td>\n",
       "      <td>Tail</td>\n",
       "    </tr>\n",
       "    <tr>\n",
       "      <th>...</th>\n",
       "      <td>...</td>\n",
       "      <td>...</td>\n",
       "      <td>...</td>\n",
       "      <td>...</td>\n",
       "    </tr>\n",
       "    <tr>\n",
       "      <th>1643</th>\n",
       "      <td>1775</td>\n",
       "      <td>1</td>\n",
       "      <td>0.999996</td>\n",
       "      <td>Tail</td>\n",
       "    </tr>\n",
       "    <tr>\n",
       "      <th>6510</th>\n",
       "      <td>7309</td>\n",
       "      <td>1</td>\n",
       "      <td>0.999997</td>\n",
       "      <td>Tail</td>\n",
       "    </tr>\n",
       "    <tr>\n",
       "      <th>4748</th>\n",
       "      <td>5310</td>\n",
       "      <td>1</td>\n",
       "      <td>0.999998</td>\n",
       "      <td>Tail</td>\n",
       "    </tr>\n",
       "    <tr>\n",
       "      <th>1688</th>\n",
       "      <td>1824</td>\n",
       "      <td>1</td>\n",
       "      <td>0.999999</td>\n",
       "      <td>Tail</td>\n",
       "    </tr>\n",
       "    <tr>\n",
       "      <th>840</th>\n",
       "      <td>884</td>\n",
       "      <td>1</td>\n",
       "      <td>1.000000</td>\n",
       "      <td>Tail</td>\n",
       "    </tr>\n",
       "  </tbody>\n",
       "</table>\n",
       "<p>2513 rows × 4 columns</p>\n",
       "</div>"
      ],
      "text/plain": [
       "      newbookid  rating  popshare category\n",
       "5458       6115      35  0.950003     Tail\n",
       "4776       5341      35  0.950036     Tail\n",
       "4154       4641      35  0.950069     Tail\n",
       "5735       6433      35  0.950103     Tail\n",
       "6180       6945      35  0.950136     Tail\n",
       "...         ...     ...       ...      ...\n",
       "1643       1775       1  0.999996     Tail\n",
       "6510       7309       1  0.999997     Tail\n",
       "4748       5310       1  0.999998     Tail\n",
       "1688       1824       1  0.999999     Tail\n",
       "840         884       1  1.000000     Tail\n",
       "\n",
       "[2513 rows x 4 columns]"
      ]
     },
     "execution_count": 7,
     "metadata": {},
     "output_type": "execute_result"
    }
   ],
   "source": [
    "## DEFINING THE TAIL\n",
    "tailcomp = ratings.groupby(by= 'newbookid', as_index=False).agg({'rating':pd.Series.count}).sort_values(by = 'rating', ascending = False)\n",
    "tot = sum(tailcomp['rating'])\n",
    "tailcomp['popshare']= [x/tot for x in tailcomp['rating']]\n",
    "tailcomp['popshare']= tailcomp['popshare'].cumsum()\n",
    "tailcomp['category']= ['Head' if x<0.95 else \"Tail\" for x in tailcomp['popshare']]\n",
    "\n",
    "tail = tailcomp.loc[tailcomp.popshare >= 0.95]\n",
    "tail"
   ]
  },
  {
   "cell_type": "code",
   "execution_count": 10,
   "metadata": {},
   "outputs": [
    {
     "data": {
      "text/html": [
       "<div><strong>Dask DataFrame Structure:</strong></div>\n",
       "<div>\n",
       "<style scoped>\n",
       "    .dataframe tbody tr th:only-of-type {\n",
       "        vertical-align: middle;\n",
       "    }\n",
       "\n",
       "    .dataframe tbody tr th {\n",
       "        vertical-align: top;\n",
       "    }\n",
       "\n",
       "    .dataframe thead th {\n",
       "        text-align: right;\n",
       "    }\n",
       "</style>\n",
       "<table border=\"1\" class=\"dataframe\">\n",
       "  <thead>\n",
       "    <tr style=\"text-align: right;\">\n",
       "      <th></th>\n",
       "      <th>rating</th>\n",
       "      <th>newbookid</th>\n",
       "      <th>newuser_id</th>\n",
       "    </tr>\n",
       "    <tr>\n",
       "      <th>npartitions=1</th>\n",
       "      <th></th>\n",
       "      <th></th>\n",
       "      <th></th>\n",
       "    </tr>\n",
       "  </thead>\n",
       "  <tbody>\n",
       "    <tr>\n",
       "      <th></th>\n",
       "      <td>int64</td>\n",
       "      <td>int64</td>\n",
       "      <td>int64</td>\n",
       "    </tr>\n",
       "    <tr>\n",
       "      <th></th>\n",
       "      <td>...</td>\n",
       "      <td>...</td>\n",
       "      <td>...</td>\n",
       "    </tr>\n",
       "  </tbody>\n",
       "</table>\n",
       "</div>\n",
       "<div>Dask Name: read-csv, 1 tasks</div>"
      ],
      "text/plain": [
       "Dask DataFrame Structure:\n",
       "              rating newbookid newuser_id\n",
       "npartitions=1                            \n",
       "               int64     int64      int64\n",
       "                 ...       ...        ...\n",
       "Dask Name: read-csv, 1 tasks"
      ]
     },
     "execution_count": 10,
     "metadata": {},
     "output_type": "execute_result"
    }
   ],
   "source": [
    "test = dd.read_csv('test.csv')\n",
    "test"
   ]
  },
  {
   "cell_type": "code",
   "execution_count": 11,
   "metadata": {},
   "outputs": [
    {
     "data": {
      "text/html": [
       "<div>\n",
       "<style scoped>\n",
       "    .dataframe tbody tr th:only-of-type {\n",
       "        vertical-align: middle;\n",
       "    }\n",
       "\n",
       "    .dataframe tbody tr th {\n",
       "        vertical-align: top;\n",
       "    }\n",
       "\n",
       "    .dataframe thead th {\n",
       "        text-align: right;\n",
       "    }\n",
       "</style>\n",
       "<table border=\"1\" class=\"dataframe\">\n",
       "  <thead>\n",
       "    <tr style=\"text-align: right;\">\n",
       "      <th></th>\n",
       "      <th>rating</th>\n",
       "      <th>newbookid</th>\n",
       "      <th>newuser_id</th>\n",
       "      <th>pred</th>\n",
       "    </tr>\n",
       "  </thead>\n",
       "  <tbody>\n",
       "    <tr>\n",
       "      <th>4381</th>\n",
       "      <td>5</td>\n",
       "      <td>4320</td>\n",
       "      <td>15000</td>\n",
       "      <td>5.265769</td>\n",
       "    </tr>\n",
       "    <tr>\n",
       "      <th>3302</th>\n",
       "      <td>5</td>\n",
       "      <td>1010</td>\n",
       "      <td>15000</td>\n",
       "      <td>5.180149</td>\n",
       "    </tr>\n",
       "    <tr>\n",
       "      <th>1606</th>\n",
       "      <td>4</td>\n",
       "      <td>89</td>\n",
       "      <td>15000</td>\n",
       "      <td>4.792185</td>\n",
       "    </tr>\n",
       "    <tr>\n",
       "      <th>1227</th>\n",
       "      <td>4</td>\n",
       "      <td>102</td>\n",
       "      <td>15000</td>\n",
       "      <td>4.776845</td>\n",
       "    </tr>\n",
       "    <tr>\n",
       "      <th>4423</th>\n",
       "      <td>4</td>\n",
       "      <td>70</td>\n",
       "      <td>15000</td>\n",
       "      <td>4.746692</td>\n",
       "    </tr>\n",
       "  </tbody>\n",
       "</table>\n",
       "</div>"
      ],
      "text/plain": [
       "      rating  newbookid  newuser_id      pred\n",
       "4381       5       4320       15000  5.265769\n",
       "3302       5       1010       15000  5.180149\n",
       "1606       4         89       15000  4.792185\n",
       "1227       4        102       15000  4.776845\n",
       "4423       4         70       15000  4.746692"
      ]
     },
     "execution_count": 11,
     "metadata": {},
     "output_type": "execute_result"
    }
   ],
   "source": [
    "mfrank = test.merge(predictions,on = ['newbookid', 'newuser_id'])\n",
    "#mfrank = mfrank.sort_values(by=['newuser_id', 'pred'], ascending=False)\n",
    "mfrank = mfrank.nlargest(columns= ['newuser_id','pred'])\n",
    "mfrank.head(5)"
   ]
  },
  {
   "cell_type": "code",
   "execution_count": 29,
   "metadata": {},
   "outputs": [],
   "source": [
    "#train['conc']=train['newuser_id'].map(str)+train['newbookid'].map(str)\n",
    "#pred['conc']=pred['newuser_id'].map(str)+pred['newbookid'].map(str)\n",
    "#predfin = pred[~pred.conc.isin(train.conc)]\n",
    "#predfin.describe()"
   ]
  },
  {
   "cell_type": "code",
   "execution_count": 12,
   "metadata": {},
   "outputs": [],
   "source": [
    "mfr = mfrank.compute()"
   ]
  },
  {
   "cell_type": "code",
   "execution_count": 13,
   "metadata": {},
   "outputs": [
    {
     "name": "stdout",
     "output_type": "stream",
     "text": [
      "done:  1000\n",
      "done:  2000\n",
      "done:  3000\n",
      "done:  4000\n",
      "done:  5000\n",
      "done:  6000\n",
      "done:  7000\n",
      "done:  8000\n",
      "done:  9000\n",
      "done:  10000\n",
      "done:  11000\n",
      "done:  12000\n",
      "done:  13000\n",
      "done:  14000\n",
      "done:  15000\n"
     ]
    }
   ],
   "source": [
    "mflist = []\n",
    "for i in range(15000):\n",
    "    a = mfr.loc[mfr.newuser_id == i+1]['rating'].tolist()\n",
    "    mflist.append(a)\n",
    "    if (i+1)%1000 == 0: print(\"done: \", i+1)"
   ]
  },
  {
   "cell_type": "code",
   "execution_count": 14,
   "metadata": {},
   "outputs": [
    {
     "data": {
      "image/png": "[encoded data removed]",
      "text/plain": [
       "<Figure size 720x216 with 1 Axes>"
      ]
     },
     "metadata": {
      "needs_background": "light"
     },
     "output_type": "display_data"
    }
   ],
   "source": [
    "b = np.array([ndcg_k(r, len(r)) for r in mflist])\n",
    "\n",
    "\n",
    "facet, axes = plt.subplots(1, 1, figsize=(10, 3))\n",
    "n, bins, patches = plt.hist(b, 200, facecolor='blue', alpha=0.5) #, log = True)   \n",
    "plt.title('Distribution of NDGC among Users for the MF model')\n",
    "plt.show()\n",
    "\n",
    "# [ndcg_k(r, len(r)) for r in poplista]"
   ]
  },
  {
   "cell_type": "code",
   "execution_count": 15,
   "metadata": {},
   "outputs": [
    {
     "data": {
      "text/plain": [
       "6.666666666666667e-05"
      ]
     },
     "execution_count": 15,
     "metadata": {},
     "output_type": "execute_result"
    }
   ],
   "source": [
    "d = b[b == 1]\n",
    "sum(d)/15000"
   ]
  },
  {
   "cell_type": "code",
   "execution_count": 16,
   "metadata": {},
   "outputs": [
    {
     "name": "stdout",
     "output_type": "stream",
     "text": [
      "(1) MF Model RMSE:  0.615\n",
      "(2) MF Model NDCG:  0.0\n",
      "(2) Median NDCG:  0.0\n",
      "(2) Share of NDCG =1 among Users:  0.0\n",
      "(3) MF Model Div10 Score:  0.0\n",
      "(3) MF Model Div50 Score:  0.0\n"
     ]
    }
   ],
   "source": [
    "top10 = predictions.nlargest(n=10, columns='newuser_id')\n",
    "top50 = predictions.nlargest(n=50, columns='newuser_id')\n",
    "#top10 = predictions.sort_values('pred',ascending = False).groupby('newuser_id').head(10)\n",
    "#top50 = predictions.sort_values('pred',ascending = False).groupby('newuser_id').head(50)\n",
    "\n",
    "print('(1) MF Model RMSE: ', np.round(rmse(mfrank['pred'],mfrank['rating']), decimals=3))\n",
    "print('(2) MF Model NDCG: ', np.round(mean_ndcg(mflist), decimals=3))\n",
    "print(\"(2) Median NDCG: \", np.round(np.median(b), decimals=3))\n",
    "print(\"(2) Share of NDCG =1 among Users: \", np.round(sum(d)/15000, decimals=3))\n",
    "print('(3) MF Model Div10 Score: ',np.round(sum(np.in1d(top10.newbookid, tail.newbookid))/len(top10), decimals=3))\n",
    "print('(3) MF Model Div50 Score: ',np.round(sum(np.in1d(top50.newbookid, tail.newbookid))/len(top50), decimals=3))"
   ]
  },
  {
   "cell_type": "code",
   "execution_count": 17,
   "metadata": {},
   "outputs": [
    {
     "data": {
      "text/html": [
       "<div><strong>Dask DataFrame Structure:</strong></div>\n",
       "<div>\n",
       "<style scoped>\n",
       "    .dataframe tbody tr th:only-of-type {\n",
       "        vertical-align: middle;\n",
       "    }\n",
       "\n",
       "    .dataframe tbody tr th {\n",
       "        vertical-align: top;\n",
       "    }\n",
       "\n",
       "    .dataframe thead th {\n",
       "        text-align: right;\n",
       "    }\n",
       "</style>\n",
       "<table border=\"1\" class=\"dataframe\">\n",
       "  <thead>\n",
       "    <tr style=\"text-align: right;\">\n",
       "      <th></th>\n",
       "      <th>rating</th>\n",
       "      <th>newbookid</th>\n",
       "      <th>newuser_id</th>\n",
       "    </tr>\n",
       "    <tr>\n",
       "      <th>npartitions=1</th>\n",
       "      <th></th>\n",
       "      <th></th>\n",
       "      <th></th>\n",
       "    </tr>\n",
       "  </thead>\n",
       "  <tbody>\n",
       "    <tr>\n",
       "      <th></th>\n",
       "      <td>int64</td>\n",
       "      <td>int64</td>\n",
       "      <td>int64</td>\n",
       "    </tr>\n",
       "    <tr>\n",
       "      <th></th>\n",
       "      <td>...</td>\n",
       "      <td>...</td>\n",
       "      <td>...</td>\n",
       "    </tr>\n",
       "  </tbody>\n",
       "</table>\n",
       "</div>\n",
       "<div>Dask Name: read-csv, 1 tasks</div>"
      ],
      "text/plain": [
       "Dask DataFrame Structure:\n",
       "              rating newbookid newuser_id\n",
       "npartitions=1                            \n",
       "               int64     int64      int64\n",
       "                 ...       ...        ...\n",
       "Dask Name: read-csv, 1 tasks"
      ]
     },
     "execution_count": 17,
     "metadata": {},
     "output_type": "execute_result"
    }
   ],
   "source": [
    "train = dd.read_csv('test.csv')\n",
    "train"
   ]
  },
  {
   "cell_type": "code",
   "execution_count": 18,
   "metadata": {},
   "outputs": [],
   "source": [
    "mfranktrain = train.merge(predictions,on = ['newbookid', 'newuser_id'])\n",
    "#mfranktrain = mfranktrain.sort_values(by=['newuser_id', 'pred'], ascending=False)\n",
    "mfranktrain = mfranktrain.nlargest(columns= ['newuser_id','pred'])"
   ]
  },
  {
   "cell_type": "code",
   "execution_count": 19,
   "metadata": {},
   "outputs": [],
   "source": [
    "mfrt = mfranktrain.compute()"
   ]
  },
  {
   "cell_type": "code",
   "execution_count": 20,
   "metadata": {},
   "outputs": [
    {
     "name": "stdout",
     "output_type": "stream",
     "text": [
      "done:  1000\n",
      "done:  2000\n",
      "done:  3000\n",
      "done:  4000\n",
      "done:  5000\n",
      "done:  6000\n",
      "done:  7000\n",
      "done:  8000\n",
      "done:  9000\n",
      "done:  10000\n",
      "done:  11000\n",
      "done:  12000\n",
      "done:  13000\n",
      "done:  14000\n",
      "done:  15000\n"
     ]
    }
   ],
   "source": [
    "mflisttrain = []\n",
    "for i in range(15000):\n",
    "    a = mfrt.loc[mfrt.newuser_id == i+1]['rating'].tolist()\n",
    "    mflisttrain.append(a)\n",
    "    if (i+1)%1000 == 0: print(\"done: \", i+1)"
   ]
  },
  {
   "cell_type": "code",
   "execution_count": 21,
   "metadata": {},
   "outputs": [
    {
     "name": "stdout",
     "output_type": "stream",
     "text": [
      "(1) MF Train Model RMSE:  0.615\n",
      "(2) MF Train Model NDCG:  0.0\n"
     ]
    }
   ],
   "source": [
    "print('(1) MF Train Model RMSE: ', np.round(rmse(mfrt['pred'],mfrt['rating']), decimals=3))\n",
    "print('(2) MF Train Model NDCG: ', np.round(mean_ndcg(mflisttrain), decimals=3))"
   ]
  },
  {
   "cell_type": "code",
   "execution_count": null,
   "metadata": {},
   "outputs": [],
   "source": []
  }
 ],
 "metadata": {
  "kernelspec": {
   "display_name": "Python 3",
   "language": "python",
   "name": "python3"
  },
  "language_info": {
   "codemirror_mode": {
    "name": "ipython",
    "version": 3
   },
   "file_extension": ".py",
   "mimetype": "text/x-python",
   "name": "python",
   "nbconvert_exporter": "python",
   "pygments_lexer": "ipython3",
   "version": "3.8.5"
  }
 },
 "nbformat": 4,
 "nbformat_minor": 4
}
