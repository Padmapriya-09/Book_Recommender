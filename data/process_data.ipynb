{
 "cells": [
  {
   "cell_type": "code",
   "execution_count": 1,
   "metadata": {},
   "outputs": [],
   "source": [
    "import pandas as pd\n",
    "import os\n",
    "\n",
    "cwd = os.getcwd()\n",
    "\n",
    "os.chdir(cwd+'/input csv files')\n",
    "f1 = open(\"ratings.csv\", 'r')\n",
    "f2 = open(\"books.csv\", 'r')\n",
    "f3 = open(\"book_data_from_kaggle.csv\", 'r')\n",
    "f4 = open(\"tags.csv\", 'r')\n",
    "f5 = open(\"book_tags.csv\", 'r')\n",
    "\n",
    "ratings = pd.read_csv(f1)\n",
    "books = pd.read_csv(f2)\n",
    "books2 = pd.read_csv(f3)\n",
    "tags = pd.read_csv(f4)\n",
    "book_tags = pd.read_csv(f5)\n",
    "\n",
    "f1.close()\n",
    "f2.close()\n",
    "f3.close()\n",
    "f4.close()\n",
    "f5.close()\n",
    "\n",
    "os.chdir(cwd)"
   ]
  },
  {
   "cell_type": "code",
   "execution_count": 2,
   "metadata": {},
   "outputs": [
    {
     "name": "stdout",
     "output_type": "stream",
     "text": [
      "No.of different users in dataset: 15000\n"
     ]
    }
   ],
   "source": [
    "# step1: get unique users from ratings.csv (take top 15000 users only)\n",
    "# agg = aggregate, pd.Series.count on attribute rating count no.of ratings given by that user\n",
    "useronly = ratings.groupby(by='user_id', as_index=False).agg({'rating': pd.Series.count}).sort_values('rating', ascending=False).head(15000)\n",
    "print('No.of different users in dataset: '+str(len(useronly)))"
   ]
  },
  {
   "cell_type": "code",
   "execution_count": 3,
   "metadata": {},
   "outputs": [],
   "source": [
    "# step2: remove data related to remaining users from ratings.csv\n",
    "ratings = ratings[ratings.user_id.isin(useronly.user_id)]"
   ]
  },
  {
   "cell_type": "code",
   "execution_count": 4,
   "metadata": {},
   "outputs": [
    {
     "name": "stdout",
     "output_type": "stream",
     "text": [
      "No.of different books in dataset: 8000\n"
     ]
    }
   ],
   "source": [
    "# step3: get unique books from ratings.csv (take top 8000 books only)\n",
    "bookonly = ratings.groupby(by='book_id', as_index=False).agg({'rating': pd.Series.count}).sort_values('rating', ascending=False).head(8000)\n",
    "print('No.of different books in dataset: '+str(len(bookonly)))"
   ]
  },
  {
   "cell_type": "code",
   "execution_count": 5,
   "metadata": {},
   "outputs": [],
   "source": [
    "# step4: remove remaining books from books.csv and remaining details from book_tags.csv and ratings.csv\n",
    "books = books[books.book_id.isin(bookonly.book_id)]\n",
    "ratings = ratings[ratings.book_id.isin(bookonly.book_id)]\n",
    "book_tags = book_tags.merge(books[['book_id', 'goodreads_book_id']], how='left', on='goodreads_book_id')\n",
    "book_tags = book_tags[book_tags.book_id.isin(bookonly.book_id)]\n",
    "book_tags = book_tags.drop(['book_id'], axis=1)"
   ]
  },
  {
   "cell_type": "code",
   "execution_count": 6,
   "metadata": {},
   "outputs": [],
   "source": [
    "# step5: add a new column in books.csv ('newbookid') to make all indices continuous because some book_id's are deleted\n",
    "books = books.reset_index(drop=True)\n",
    "books['newbookid'] = books.index+1"
   ]
  },
  {
   "cell_type": "code",
   "execution_count": 7,
   "metadata": {},
   "outputs": [],
   "source": [
    "# step6: add this newbookid column to ratings.csv\n",
    "ratings = ratings.merge(books[['book_id', 'newbookid']], how='left', on='book_id')"
   ]
  },
  {
   "cell_type": "code",
   "execution_count": 8,
   "metadata": {},
   "outputs": [],
   "source": [
    "# step7: add a new column in ratings.csv ('newuserid') to make all user_id's continuous because some user_id's are deleted\n",
    "ratings['newuserid'] = ratings.groupby('user_id').grouper.group_info[0]+1"
   ]
  },
  {
   "cell_type": "code",
   "execution_count": 9,
   "metadata": {},
   "outputs": [],
   "source": [
    "# step8: add column ('genre' and 'firstgenre') using tags.csv and book_tags.csv\n",
    "book_tags = book_tags.merge(tags[['tag_id', 'tag_name']], how='left', on='tag_id')\n",
    "book_tags['tag_name'] = book_tags[['goodreads_book_id', 'tag_name']].groupby(['goodreads_book_id'])['tag_name'].transform(lambda x: '|'.join(x))\n",
    "book_tags = book_tags.drop(['tag_id', 'count'], axis=1)\n",
    "book_tags = book_tags[['goodreads_book_id', 'tag_name']].drop_duplicates()\n",
    "books = books.merge(book_tags[['goodreads_book_id', 'tag_name']], how='left', on='goodreads_book_id')\n",
    "books = books.rename(columns={'tag_name': 'genre'})\n",
    "books['genre'] = books['genre'].fillna('Unknown')\n",
    "books['firstgenre'] = [x.split('|')[0] for x in books['genre']]"
   ]
  },
  {
   "cell_type": "code",
   "execution_count": 10,
   "metadata": {},
   "outputs": [],
   "source": [
    "# step9: drop columns ('user_id', 'book_id) from ratings.csv\n",
    "ratings = ratings.drop(['user_id', 'book_id'], axis=1)"
   ]
  },
  {
   "cell_type": "code",
   "execution_count": 11,
   "metadata": {},
   "outputs": [
    {
     "name": "stdout",
     "output_type": "stream",
     "text": [
      "4    757468\n",
      "5    659929\n",
      "3    515113\n",
      "2    134803\n",
      "1     45375\n",
      "Name: rating, dtype: int64\n"
     ]
    }
   ],
   "source": [
    "print(ratings['rating'].value_counts())"
   ]
  },
  {
   "cell_type": "code",
   "execution_count": 12,
   "metadata": {},
   "outputs": [],
   "source": [
    "# step10: get title,pages,decs,rating columns from book_data_from_kaggle.csv to a temporary df\n",
    "temp = books2[['book_title', 'book_pages', 'book_desc', 'book_rating']]"
   ]
  },
  {
   "cell_type": "code",
   "execution_count": 13,
   "metadata": {},
   "outputs": [],
   "source": [
    "# step11: change pattern of string in title of books\n",
    "#books['title'] = books['title'].str.replace(r\"\\(.*\\)\", \"\")\n",
    "#books['original_title'] = books['original_title'].str.replace(r\"\\(.*\\)\", \"\")"
   ]
  },
  {
   "cell_type": "code",
   "execution_count": 14,
   "metadata": {},
   "outputs": [],
   "source": [
    "# step12: merge books and temp (temp's columns will be added twice with _x and_y)\n",
    "books = books.merge(temp.drop_duplicates(['book_title']), how='left', left_on=['original_title'], right_on=['book_title'])\n",
    "books = books.merge(temp.drop_duplicates(['book_title']), how='left', left_on=['title'], right_on=['book_title'])"
   ]
  },
  {
   "cell_type": "code",
   "execution_count": 15,
   "metadata": {},
   "outputs": [],
   "source": [
    "# step13: add columns (snippet, pages, first_author) using columns from temp and drop all columns from temp\n",
    "books['snippet'] = books['book_desc_y'].fillna(books['book_desc_x'])\n",
    "books['pages'] = books['book_pages_y'].fillna(books['book_pages_x'])\n",
    "books = books.drop(['book_desc_x', 'book_desc_y', 'book_pages_y', 'book_pages_x', 'book_rating_x', 'book_rating_y', 'book_title_y', 'book_title_x'], axis=1)\n",
    "books['pages'] = books['pages'].fillna('0')\n",
    "books['first_author'] = [x.split(',')[0] for x in books['authors']]\n",
    "books['first_author'] = books['first_author'].fillna('Unknown')"
   ]
  },
  {
   "cell_type": "code",
   "execution_count": 16,
   "metadata": {},
   "outputs": [],
   "source": [
    "# write finalbooks and finalratings csv files\n",
    "os.chdir(cwd+'/output csv files')\n",
    "books.to_csv(\"finalbooks.csv\", index=False)\n",
    "ratings.to_csv(\"finalratings.csv\", index=False)"
   ]
  },
  {
   "cell_type": "code",
   "execution_count": 17,
   "metadata": {},
   "outputs": [
    {
     "name": "stdout",
     "output_type": "stream",
     "text": [
      "    book_id  goodreads_book_id  best_book_id   work_id  books_count  \\\n",
      "0         1            2767052       2767052   2792775          272   \n",
      "1         2                  3             3   4640799          491   \n",
      "2         3              41865         41865   3212258          226   \n",
      "3         4               2657          2657   3275794          487   \n",
      "4         5               4671          4671    245494         1356   \n",
      "5         6           11870085      11870085  16827462          226   \n",
      "6         7               5907          5907   1540236          969   \n",
      "7         8               5107          5107   3036731          360   \n",
      "8         9                960           960   3338963          311   \n",
      "9        10               1885          1885   3060926         3455   \n",
      "10       11              77203         77203   3295919          283   \n",
      "11       12           13335037      13335037  13155899          210   \n",
      "12       13               5470          5470    153313          995   \n",
      "13       14               7613          7613   2207778          896   \n",
      "14       15              48855         48855   3532896          710   \n",
      "15       16            2429135       2429135   1708725          274   \n",
      "16       17            6148028       6148028   6171458          201   \n",
      "17       18                  5             5   2402163          376   \n",
      "18       19                 34            34   3204327          566   \n",
      "19       20            7260188       7260188   8812783          239   \n",
      "\n",
      "          isbn        isbn13  \\\n",
      "0    439023483  9.780439e+12   \n",
      "1    439554934  9.780440e+12   \n",
      "2    316015849  9.780316e+12   \n",
      "3     61120081  9.780061e+12   \n",
      "4    743273567  9.780743e+12   \n",
      "5    525478817  9.780525e+12   \n",
      "6    618260307  9.780618e+12   \n",
      "7    316769177  9.780317e+12   \n",
      "8   1416524797  9.781417e+12   \n",
      "9    679783261  9.780680e+12   \n",
      "10  1594480001  9.781594e+12   \n",
      "11    62024035  9.780062e+12   \n",
      "12   451524934  9.780452e+12   \n",
      "13   452284244  9.780452e+12   \n",
      "14   553296981  9.780553e+12   \n",
      "15   307269752  9.780307e+12   \n",
      "16   439023491  9.780439e+12   \n",
      "17  043965548X  9.780440e+12   \n",
      "18   618346252  9.780618e+12   \n",
      "19   439023513  9.780439e+12   \n",
      "\n",
      "                                              authors  \\\n",
      "0                                     Suzanne Collins   \n",
      "1                         J.K. Rowling, Mary GrandPré   \n",
      "2                                     Stephenie Meyer   \n",
      "3                                          Harper Lee   \n",
      "4                                 F. Scott Fitzgerald   \n",
      "5                                          John Green   \n",
      "6                                      J.R.R. Tolkien   \n",
      "7                                       J.D. Salinger   \n",
      "8                                           Dan Brown   \n",
      "9                                         Jane Austen   \n",
      "10                                    Khaled Hosseini   \n",
      "11                                      Veronica Roth   \n",
      "12            George Orwell, Erich Fromm, Celâl Üster   \n",
      "13                                      George Orwell   \n",
      "14  Anne Frank, Eleanor Roosevelt, B.M. Mooyaart-D...   \n",
      "15                         Stieg Larsson, Reg Keeland   \n",
      "16                                    Suzanne Collins   \n",
      "17            J.K. Rowling, Mary GrandPré, Rufus Beck   \n",
      "18                                     J.R.R. Tolkien   \n",
      "19                                    Suzanne Collins   \n",
      "\n",
      "    original_publication_year  \\\n",
      "0                      2008.0   \n",
      "1                      1997.0   \n",
      "2                      2005.0   \n",
      "3                      1960.0   \n",
      "4                      1925.0   \n",
      "5                      2012.0   \n",
      "6                      1937.0   \n",
      "7                      1951.0   \n",
      "8                      2000.0   \n",
      "9                      1813.0   \n",
      "10                     2003.0   \n",
      "11                     2011.0   \n",
      "12                     1949.0   \n",
      "13                     1945.0   \n",
      "14                     1947.0   \n",
      "15                     2005.0   \n",
      "16                     2009.0   \n",
      "17                     1999.0   \n",
      "18                     1954.0   \n",
      "19                     2010.0   \n",
      "\n",
      "                                       original_title  ... ratings_4  \\\n",
      "0                                    The Hunger Games  ...   1481305   \n",
      "1            Harry Potter and the Philosopher's Stone  ...   1156318   \n",
      "2                                            Twilight  ...    875073   \n",
      "3                               To Kill a Mockingbird  ...   1001952   \n",
      "4                                    The Great Gatsby  ...    936012   \n",
      "5                              The Fault in Our Stars  ...    698471   \n",
      "6                  The Hobbit or There and Back Again  ...    665635   \n",
      "7                              The Catcher in the Rye  ...    661516   \n",
      "8                                    Angels & Demons   ...    716569   \n",
      "9                                 Pride and Prejudice  ...    609755   \n",
      "10                                   The Kite Runner   ...    628174   \n",
      "11                                          Divergent  ...    673028   \n",
      "12                               Nineteen Eighty-Four  ...    692021   \n",
      "13                         Animal Farm: A Fairy Story  ...    698642   \n",
      "14  Het Achterhuis: Dagboekbrieven 14 juni 1942 - ...  ...    656870   \n",
      "15                              Män som hatar kvinnor  ...    667485   \n",
      "16                                      Catching Fire  ...    687238   \n",
      "17           Harry Potter and the Prisoner of Azkaban  ...    509447   \n",
      "18                         The Fellowship of the Ring  ...    493922   \n",
      "19                                         Mockingjay  ...    618271   \n",
      "\n",
      "   ratings_5                                          image_url  \\\n",
      "0    2706317  https://images.gr-assets.com/books/1447303603m...   \n",
      "1    3011543  https://images.gr-assets.com/books/1474154022m...   \n",
      "2    1355439  https://images.gr-assets.com/books/1361039443m...   \n",
      "3    1714267  https://images.gr-assets.com/books/1361975680m...   \n",
      "4     947718  https://images.gr-assets.com/books/1490528560m...   \n",
      "5    1311871  https://images.gr-assets.com/books/1360206420m...   \n",
      "6    1119718  https://images.gr-assets.com/books/1372847500m...   \n",
      "7     709176  https://images.gr-assets.com/books/1398034300m...   \n",
      "8     680175  https://images.gr-assets.com/books/1303390735m...   \n",
      "9    1155673  https://images.gr-assets.com/books/1320399351m...   \n",
      "10    929591  https://images.gr-assets.com/books/1484565687m...   \n",
      "11   1114304  https://images.gr-assets.com/books/1328559506m...   \n",
      "12    908229  https://images.gr-assets.com/books/1348990566m...   \n",
      "13    648912  https://images.gr-assets.com/books/1424037542m...   \n",
      "14    875372  https://images.gr-assets.com/books/1358276407m...   \n",
      "15    836050  https://images.gr-assets.com/books/1327868566m...   \n",
      "16    980309  https://images.gr-assets.com/books/1358273780m...   \n",
      "17   1266670  https://images.gr-assets.com/books/1499277281m...   \n",
      "18   1042394  https://images.gr-assets.com/books/1298411339m...   \n",
      "19    738775  https://images.gr-assets.com/books/1358275419m...   \n",
      "\n",
      "                                      small_image_url  newbookid  \\\n",
      "0   https://images.gr-assets.com/books/1447303603s...          1   \n",
      "1   https://images.gr-assets.com/books/1474154022s...          2   \n",
      "2   https://images.gr-assets.com/books/1361039443s...          3   \n",
      "3   https://images.gr-assets.com/books/1361975680s...          4   \n",
      "4   https://images.gr-assets.com/books/1490528560s...          5   \n",
      "5   https://images.gr-assets.com/books/1360206420s...          6   \n",
      "6   https://images.gr-assets.com/books/1372847500s...          7   \n",
      "7   https://images.gr-assets.com/books/1398034300s...          8   \n",
      "8   https://images.gr-assets.com/books/1303390735s...          9   \n",
      "9   https://images.gr-assets.com/books/1320399351s...         10   \n",
      "10  https://images.gr-assets.com/books/1484565687s...         11   \n",
      "11  https://images.gr-assets.com/books/1328559506s...         12   \n",
      "12  https://images.gr-assets.com/books/1348990566s...         13   \n",
      "13  https://images.gr-assets.com/books/1424037542s...         14   \n",
      "14  https://images.gr-assets.com/books/1358276407s...         15   \n",
      "15  https://images.gr-assets.com/books/1327868566s...         16   \n",
      "16  https://images.gr-assets.com/books/1358273780s...         17   \n",
      "17  https://images.gr-assets.com/books/1499277281s...         18   \n",
      "18  https://images.gr-assets.com/books/1298411339s...         19   \n",
      "19  https://images.gr-assets.com/books/1358275419s...         20   \n",
      "\n",
      "                                                genre         firstgenre  \\\n",
      "0   favorites|currently-reading|young-adult|fictio...          favorites   \n",
      "1   to-read|favorites|fantasy|currently-reading|yo...            to-read   \n",
      "2   young-adult|fantasy|favorites|vampires|ya|fict...        young-adult   \n",
      "3   classics|favorites|to-read|classic|historical-...           classics   \n",
      "4   classics|favorites|fiction|classic|books-i-own...           classics   \n",
      "5   favorites|to-read|young-adult|fiction|ya|roman...          favorites   \n",
      "6   fantasy|favorites|classics|to-read|fiction|boo...            fantasy   \n",
      "7   classics|favorites|fiction|to-read|classic|you...           classics   \n",
      "8   to-read|fiction|mystery|favorites|thriller|dan...            to-read   \n",
      "9   classics|favorites|fiction|romance|classic|boo...           classics   \n",
      "10  favorites|fiction|to-read|historical-fiction|b...          favorites   \n",
      "11  favorites|currently-reading|to-read|young-adul...          favorites   \n",
      "12  fiction|science-fiction|sci-fi|dystopian|class...            fiction   \n",
      "13  classics|fiction|favorites|classic|dystopia|fa...           classics   \n",
      "14  non-fiction|classics|history|biography|to-read...        non-fiction   \n",
      "15  to-read|currently-reading|fiction|mystery|favo...            to-read   \n",
      "16  young-adult|dystopia|fantasy|sci-fi|to-read|se...        young-adult   \n",
      "17  favorites|fantasy|currently-reading|young-adul...          favorites   \n",
      "18  fantasy|to-read|classics|fiction|books-i-own|c...            fantasy   \n",
      "19  currently-reading|favorites|young-adult|dystop...  currently-reading   \n",
      "\n",
      "                                              snippet      pages  \\\n",
      "0   Winning will make you famous. Losing means cer...  374 pages   \n",
      "1                                                 NaN          0   \n",
      "2   About three things I was absolutely positive.F...  498 pages   \n",
      "3   The unforgettable novel of a childhood in a sl...  324 pages   \n",
      "4   Alternate Cover Edition ISBN: 0743273567 (ISBN...  180 pages   \n",
      "5   Despite the tumor-shrinking medical miracle th...  313 pages   \n",
      "6   In a hole in the ground there lived a hobbit. ...  366 pages   \n",
      "7   The hero-narrator of The Catcher in the Rye is...  277 pages   \n",
      "8                                                 NaN          0   \n",
      "9   «È cosa ormai risaputa che a uno scapolo in po...  279 pages   \n",
      "10   “It may be unfair, but what happens in a few ...  371 pages   \n",
      "11  In Beatrice Prior's dystopian Chicago world, s...  487 pages   \n",
      "12  Among the seminal texts of the 20th century, N...  328 pages   \n",
      "13  مزرعة الحيوانات هي رائعة جورج أورويل الخالدة.....  122 pages   \n",
      "14  Anne Frank's extraordinary diary, written in t...  304 pages   \n",
      "15  Mikael Blomkvist, ekonomireporter, döms till f...  566 pages   \n",
      "16  Sparks are igniting.Flames are spreading.And t...  391 pages   \n",
      "17  Harry Potter's third year at Hogwarts is full ...  435 pages   \n",
      "18                                                NaN          0   \n",
      "19  My name is Katniss Everdeen.Why am I not dead?...  392 pages   \n",
      "\n",
      "           first_author  \n",
      "0       Suzanne Collins  \n",
      "1          J.K. Rowling  \n",
      "2       Stephenie Meyer  \n",
      "3            Harper Lee  \n",
      "4   F. Scott Fitzgerald  \n",
      "5            John Green  \n",
      "6        J.R.R. Tolkien  \n",
      "7         J.D. Salinger  \n",
      "8             Dan Brown  \n",
      "9           Jane Austen  \n",
      "10      Khaled Hosseini  \n",
      "11        Veronica Roth  \n",
      "12        George Orwell  \n",
      "13        George Orwell  \n",
      "14           Anne Frank  \n",
      "15        Stieg Larsson  \n",
      "16      Suzanne Collins  \n",
      "17         J.K. Rowling  \n",
      "18       J.R.R. Tolkien  \n",
      "19      Suzanne Collins  \n",
      "\n",
      "[20 rows x 29 columns]\n",
      "    rating  newbookid  newuserid\n",
      "0        4         70          1\n",
      "1        3        264          1\n",
      "2        4        388          1\n",
      "3        5         18          1\n",
      "4        5         27          1\n",
      "5        5         21          1\n",
      "6        5          2          1\n",
      "7        5         23          1\n",
      "8        5         24          1\n",
      "9        4        964          1\n",
      "10       5        103          1\n",
      "11       2        255          1\n",
      "12       5         35          1\n",
      "13       3        287          1\n",
      "14       4        337          1\n",
      "15       3         26          1\n",
      "16       4         84          1\n",
      "17       4         58          1\n",
      "18       3       1117          1\n",
      "19       3        660          1\n"
     ]
    }
   ],
   "source": [
    "print(books.head(20))\n",
    "print(ratings.head(20))"
   ]
  },
  {
   "cell_type": "code",
   "execution_count": 18,
   "metadata": {},
   "outputs": [],
   "source": [
    "# delete all dataframes used\n",
    "del ratings, books, books2, book_tags, tags, temp"
   ]
  }
 ],
 "metadata": {
  "kernelspec": {
   "display_name": "Python 3",
   "language": "python",
   "name": "python3"
  },
  "language_info": {
   "codemirror_mode": {
    "name": "ipython",
    "version": 3
   },
   "file_extension": ".py",
   "mimetype": "text/x-python",
   "name": "python",
   "nbconvert_exporter": "python",
   "pygments_lexer": "ipython3",
   "version": "3.8.5"
  }
 },
 "nbformat": 4,
 "nbformat_minor": 4
}
